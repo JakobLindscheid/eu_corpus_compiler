{
 "cells": [
  {
   "cell_type": "code",
   "execution_count": 1,
   "id": "d3fba1eb",
   "metadata": {},
   "outputs": [],
   "source": [
    "import re\n",
    "import json\n",
    "import pandas as pd\n",
    "from tqdm.auto import tqdm\n",
    "import pathlib\n",
    "\n",
    "import spacy\n",
    "from spacy.tokens import Doc\n",
    "from spacy.language import Language\n",
    "\n",
    "from emfdscore.load_mfds import emfd\n",
    "from emfdscore.scoring import score_docs"
   ]
  },
  {
   "cell_type": "code",
   "execution_count": 2,
   "id": "715d940b",
   "metadata": {},
   "outputs": [],
   "source": [
    "files = list(pathlib.Path(\"D:/data\").glob(\"*/text_files*/*.txt\"))"
   ]
  },
  {
   "cell_type": "code",
   "execution_count": 3,
   "id": "f7c5949c",
   "metadata": {},
   "outputs": [
    {
     "data": {
      "application/vnd.jupyter.widget-view+json": {
       "model_id": "0d897d0d72944461a18d4ac59376b9c6",
       "version_major": 2,
       "version_minor": 0
      },
      "text/plain": [
       "  0%|          | 0/130 [00:00<?, ?it/s]"
      ]
     },
     "metadata": {},
     "output_type": "display_data"
    }
   ],
   "source": [
    "query_results = []\n",
    "result_files = list(pathlib.Path(\"queries/sparql_query_results\").glob(\"*moral*.json\"))\n",
    "for query_results_file in tqdm(result_files):\n",
    "    df = pd.DataFrame(json.load(open(query_results_file))[\"results\"][\"bindings\"])\n",
    "    df = df.assign(domain=re.search(r\"query_results_\\d+_([^\\d]+)\",query_results_file.stem).group(1))\n",
    "    query_results.append(df)"
   ]
  },
  {
   "cell_type": "code",
   "execution_count": 4,
   "id": "f0125b3d",
   "metadata": {},
   "outputs": [],
   "source": [
    "query_results = pd.concat(query_results,axis=0,ignore_index=True)"
   ]
  },
  {
   "cell_type": "code",
   "execution_count": 5,
   "id": "cc7e4f8a",
   "metadata": {},
   "outputs": [],
   "source": [
    "query_results = query_results.map(lambda x: x[\"value\"] if type(x) == dict else x)\n",
    "query_results[\"cellarIds\"] = query_results[\"cellarURIs\"].str.split(\"/\").str[-1]\n",
    "query_results[\"workTypes\"] = query_results[\"workTypes\"].str.split(\"#\").str[-1]\n",
    "query_results[\"subject_ids\"] = query_results[\"subject_ids\"].str.split(\"|\").apply(lambda x: [x.split(\"/\")[-1] for x in x])\n",
    "query_results = query_results.loc[:, [\"cellarIds\", \"workTypes\", \"subjects\", \"dates\", \"domain\"]]"
   ]
  },
  {
   "cell_type": "code",
   "execution_count": 6,
   "id": "eaadf210",
   "metadata": {},
   "outputs": [
    {
     "data": {
      "application/vnd.jupyter.widget-view+json": {
       "model_id": "2cfc9bea467e45179574d162a6105fe9",
       "version_major": 2,
       "version_minor": 0
      },
      "text/plain": [
       "  0%|          | 0/5843 [00:00<?, ?it/s]"
      ]
     },
     "metadata": {},
     "output_type": "display_data"
    }
   ],
   "source": [
    "# documents have multiple subjects -> we can have duplicates from moral & nonmoral domains\n",
    "remove = []\n",
    "for i in tqdm(query_results[query_results.duplicated(subset=[\"cellarIds\"])].index):\n",
    "    duplicates = query_results[query_results[\"cellarIds\"] == query_results.at[i, \"cellarIds\"]].index\n",
    "    query_results.at[duplicates[0], \"subjects\"] += \"|\" + query_results.at[duplicates[1], \"subjects\"]\n",
    "    query_results.at[duplicates[0], \"domain\"] = \"moral|nonmoral\"\n",
    "    remove.append(duplicates[1])"
   ]
  },
  {
   "cell_type": "code",
   "execution_count": 7,
   "id": "71521ca4",
   "metadata": {},
   "outputs": [],
   "source": [
    "query_results = query_results.drop(remove).reset_index(drop=True)"
   ]
  },
  {
   "cell_type": "code",
   "execution_count": 8,
   "id": "fb25bb6d",
   "metadata": {},
   "outputs": [],
   "source": [
    "# the EU was formerly established on 1 November 1993\n",
    "# we therefore filter out all documents that were published before 1994\n",
    "query_results = query_results[(pd.to_datetime(query_results[\"dates\"]).dt.year >= 1994)].reset_index(drop=True)"
   ]
  },
  {
   "cell_type": "code",
   "execution_count": 9,
   "id": "3531d908",
   "metadata": {},
   "outputs": [
    {
     "data": {
      "application/vnd.jupyter.widget-view+json": {
       "model_id": "cffca8cf60b045eea6a2855e024991db",
       "version_major": 2,
       "version_minor": 0
      },
      "text/plain": [
       "  0%|          | 0/51468 [00:00<?, ?it/s]"
      ]
     },
     "metadata": {},
     "output_type": "display_data"
    }
   ],
   "source": [
    "query_results = query_results.assign(text=\"\")\n",
    "query_results = query_results.set_index(\"cellarIds\")\n",
    "for file in tqdm(files):\n",
    "    if file.stem in query_results.index:\n",
    "        query_results.at[file.stem, \"text\"] = file.read_text(encoding=\"utf-8\")"
   ]
  },
  {
   "cell_type": "code",
   "execution_count": 10,
   "id": "f6c981f2",
   "metadata": {},
   "outputs": [],
   "source": [
    "query_results = query_results[query_results[\"text\"] != \"\"].reset_index()"
   ]
  },
  {
   "cell_type": "code",
   "execution_count": 11,
   "id": "33211c20",
   "metadata": {},
   "outputs": [
    {
     "data": {
      "text/plain": [
       "domain\n",
       "moral             22256\n",
       "nonmoral          14451\n",
       "moral|nonmoral     5428\n",
       "Name: count, dtype: int64"
      ]
     },
     "execution_count": 11,
     "metadata": {},
     "output_type": "execute_result"
    }
   ],
   "source": [
    "query_results[\"domain\"].value_counts()"
   ]
  },
  {
   "cell_type": "code",
   "execution_count": 12,
   "id": "137955e6",
   "metadata": {},
   "outputs": [
    {
     "data": {
      "text/plain": [
       "workTypes\n",
       "act_preparatory            24719\n",
       "decision                    6744\n",
       "regulation                  5758\n",
       "agreement_international     2747\n",
       "regulation_implementing     1243\n",
       "decision_implementing        914\n",
       "treaty                        10\n",
       "Name: count, dtype: int64"
      ]
     },
     "execution_count": 12,
     "metadata": {},
     "output_type": "execute_result"
    }
   ],
   "source": [
    "query_results[\"workTypes\"].value_counts()"
   ]
  },
  {
   "cell_type": "code",
   "execution_count": 13,
   "id": "931a827b",
   "metadata": {},
   "outputs": [],
   "source": [
    "from transformers import AutoTokenizer"
   ]
  },
  {
   "cell_type": "code",
   "execution_count": 14,
   "id": "e9c44845",
   "metadata": {},
   "outputs": [],
   "source": [
    "tokenizer = AutoTokenizer.from_pretrained(\"google-bert/bert-base-uncased\")"
   ]
  },
  {
   "cell_type": "code",
   "execution_count": 15,
   "id": "1f349fee",
   "metadata": {},
   "outputs": [],
   "source": [
    "from joblib import Parallel, delayed"
   ]
  },
  {
   "cell_type": "code",
   "execution_count": 16,
   "id": "8202d25d",
   "metadata": {},
   "outputs": [
    {
     "data": {
      "application/vnd.jupyter.widget-view+json": {
       "model_id": "c011510bcdae4ea9a217b88e960571a7",
       "version_major": 2,
       "version_minor": 0
      },
      "text/plain": [
       "  0%|          | 0/2634 [00:00<?, ?it/s]"
      ]
     },
     "metadata": {},
     "output_type": "display_data"
    }
   ],
   "source": [
    "def tokenize_batch(batch):\n",
    "    return tokenizer(batch, max_length=1024, truncation=True, add_special_tokens=False)\n",
    "\n",
    "tokenized_texts = Parallel(n_jobs=4)(\n",
    "    delayed(tokenize_batch)(query_results[\"text\"][i:i + 16].tolist())\n",
    "    for i in tqdm(range(0, len(query_results), 16))\n",
    ")"
   ]
  },
  {
   "cell_type": "code",
   "execution_count": 17,
   "id": "dc3419f2",
   "metadata": {},
   "outputs": [],
   "source": [
    "query_results[\"n_tokens\"] = [\n",
    "    len(tokenized_texts[j][\"input_ids\"][i])\n",
    "    for j in range(len(tokenized_texts))\n",
    "    for i in range(len(tokenized_texts[j][\"input_ids\"]))\n",
    "]"
   ]
  },
  {
   "cell_type": "code",
   "execution_count": 18,
   "id": "3204028a",
   "metadata": {},
   "outputs": [],
   "source": [
    "query_results[\"span_end\"] = [\n",
    "    tokenized_texts[j].token_to_chars(i, len(tokenized_texts[j].tokens(i))-2).end \n",
    "    for j in range(len(tokenized_texts))\n",
    "    for i in range(len(tokenized_texts[j][\"input_ids\"]))\n",
    "]"
   ]
  },
  {
   "cell_type": "code",
   "execution_count": 19,
   "id": "da6ffecb",
   "metadata": {},
   "outputs": [],
   "source": [
    "query_results = query_results[query_results[\"n_tokens\"] > 512].reset_index(drop=True)"
   ]
  },
  {
   "cell_type": "code",
   "execution_count": 20,
   "id": "55e49dfd",
   "metadata": {},
   "outputs": [
    {
     "data": {
      "application/vnd.jupyter.widget-view+json": {
       "model_id": "71095a95665b4377998a580ab20db230",
       "version_major": 2,
       "version_minor": 0
      },
      "text/plain": [
       "  0%|          | 0/37379 [00:00<?, ?it/s]"
      ]
     },
     "metadata": {},
     "output_type": "display_data"
    }
   ],
   "source": [
    "nlp = spacy.load('en_core_web_sm', disable=[\"tagger\", \"attribute_ruler\", \"lemmatizer\"])\n",
    "nlp.disable_pipe(\"parser\")\n",
    "nlp.enable_pipe(\"senter\")\n",
    "\n",
    "shorter_texts = query_results.apply(lambda row: row[\"text\"][:row[\"span_end\"]*2], axis=1)\n",
    "query_results = query_results.assign(sentence_end=0)\n",
    "for i, doc in tqdm(enumerate(nlp.pipe(shorter_texts, n_process=12, batch_size=16)), total=len(query_results)):\n",
    "    for sent in doc.sents:\n",
    "        if sent.end_char >= query_results.at[i,\"span_end\"]:\n",
    "            query_results.at[i, \"sentence_end\"] = sent.end_char\n",
    "            break"
   ]
  },
  {
   "cell_type": "code",
   "execution_count": 21,
   "id": "2c1cbc6b",
   "metadata": {},
   "outputs": [
    {
     "data": {
      "text/plain": [
       "0"
      ]
     },
     "execution_count": 21,
     "metadata": {},
     "output_type": "execute_result"
    }
   ],
   "source": [
    "(query_results[\"sentence_end\"] == 0).sum()"
   ]
  },
  {
   "cell_type": "code",
   "execution_count": 22,
   "id": "9b8740cf",
   "metadata": {},
   "outputs": [],
   "source": [
    "query_results[\"text\"] = query_results.apply(lambda row: row[\"text\"][:row[\"sentence_end\"]], axis=1)"
   ]
  },
  {
   "cell_type": "code",
   "execution_count": 23,
   "id": "2081f92b",
   "metadata": {},
   "outputs": [],
   "source": [
    "query_results = query_results[~query_results[\"text\"].str.lower().str.contains(\"table of contents\")].reset_index(drop=True)"
   ]
  },
  {
   "cell_type": "code",
   "execution_count": 24,
   "id": "17bb4a9f",
   "metadata": {},
   "outputs": [],
   "source": [
    "query_results.to_csv(\"D:/data/eu_documents.csv\", index=False)"
   ]
  },
  {
   "cell_type": "code",
   "execution_count": 16,
   "id": "1d3cd195",
   "metadata": {},
   "outputs": [],
   "source": [
    "query_results = pd.read_csv(\"D:/data/eu_documents.csv\")"
   ]
  },
  {
   "cell_type": "code",
   "execution_count": 17,
   "id": "99f412c4",
   "metadata": {},
   "outputs": [
    {
     "data": {
      "application/vnd.jupyter.widget-view+json": {
       "model_id": "0d52b9693d84477ab68a469caac6cfb1",
       "version_major": 2,
       "version_minor": 0
      },
      "text/plain": [
       "  0%|          | 0/35330 [00:00<?, ?it/s]"
      ]
     },
     "metadata": {},
     "output_type": "display_data"
    }
   ],
   "source": [
    "scores = score_docs(query_results[\"text\"].to_frame().rename(columns={\"text\":0}),\"emfd\",\"all\",\"bow\",\"sentiment\", n_processes=12, batch_size=16)"
   ]
  },
  {
   "cell_type": "code",
   "execution_count": 18,
   "id": "6ba4172a",
   "metadata": {},
   "outputs": [],
   "source": [
    "data = pd.concat([query_results.reset_index(drop=True).iloc[:,:-2],scores], axis=1)"
   ]
  },
  {
   "cell_type": "code",
   "execution_count": 19,
   "id": "d938c402",
   "metadata": {},
   "outputs": [],
   "source": [
    "cols = [c for c in data.columns if \"_p\" in c]"
   ]
  },
  {
   "cell_type": "code",
   "execution_count": 26,
   "id": "69141378",
   "metadata": {},
   "outputs": [],
   "source": [
    "nlp = spacy.load(\"en_core_web_lg\")\n",
    "keep = []\n",
    "mandatory = []\n",
    "docs = []\n",
    "for c in cols:\n",
    "    ids = []\n",
    "    for i in list(data.sort_values(by=c, ascending=False).head(35).index):\n",
    "        doc = nlp(data.at[i, \"text\"])\n",
    "        if len([d for d in docs if doc.similarity(d) > 0.99]) == 0:\n",
    "            ids.append(i)\n",
    "            docs.append(doc)\n",
    "    keep += ids\n",
    "    mandatory += ids[:2]"
   ]
  },
  {
   "cell_type": "code",
   "execution_count": 27,
   "id": "cb5a07e5",
   "metadata": {},
   "outputs": [],
   "source": [
    "filtered_data = data.loc[list(set(keep)), list(data.columns[:6])]\n",
    "filtered_data = filtered_data.assign(mandatory=False)\n",
    "filtered_data.loc[mandatory, \"mandatory\"] = True"
   ]
  },
  {
   "cell_type": "code",
   "execution_count": 28,
   "id": "5577c3fb",
   "metadata": {},
   "outputs": [
    {
     "name": "stdout",
     "output_type": "stream",
     "text": [
      "Mandatory docs:  10\n",
      "Total docs:  114\n"
     ]
    }
   ],
   "source": [
    "print(\"Mandatory docs: \",filtered_data[\"mandatory\"].sum())\n",
    "print(\"Total docs: \",len(filtered_data))"
   ]
  },
  {
   "cell_type": "code",
   "execution_count": 29,
   "id": "3f0d24ea",
   "metadata": {},
   "outputs": [
    {
     "name": "stdout",
     "output_type": "stream",
     "text": [
      "[]\n",
      "[]\n"
     ]
    }
   ],
   "source": [
    "prev_mandatory = pd.read_csv(\"mandatory_ids.csv\", header=None)\n",
    "print([i for i in prev_mandatory[0].tolist() if i not in filtered_data[filtered_data[\"mandatory\"]][\"cellarIds\"].tolist()])\n",
    "print([i for i in filtered_data[filtered_data[\"mandatory\"]][\"cellarIds\"].tolist() if i not in prev_mandatory[0].tolist()])"
   ]
  },
  {
   "cell_type": "code",
   "execution_count": 70,
   "id": "dae05e73",
   "metadata": {},
   "outputs": [],
   "source": [
    "filtered_data.to_csv(\"annotation_docs.csv\")"
   ]
  },
  {
   "cell_type": "code",
   "execution_count": 2,
   "id": "366bfa93",
   "metadata": {},
   "outputs": [],
   "source": [
    "filtered_data = pd.read_csv(\"annotation_docs.csv\", index_col=0)"
   ]
  },
  {
   "cell_type": "code",
   "execution_count": 3,
   "id": "625bbbb5",
   "metadata": {},
   "outputs": [
    {
     "data": {
      "text/html": [
       "<div>\n",
       "<style scoped>\n",
       "    .dataframe tbody tr th:only-of-type {\n",
       "        vertical-align: middle;\n",
       "    }\n",
       "\n",
       "    .dataframe tbody tr th {\n",
       "        vertical-align: top;\n",
       "    }\n",
       "\n",
       "    .dataframe thead th {\n",
       "        text-align: right;\n",
       "    }\n",
       "</style>\n",
       "<table border=\"1\" class=\"dataframe\">\n",
       "  <thead>\n",
       "    <tr style=\"text-align: right;\">\n",
       "      <th></th>\n",
       "      <th>cellarIds</th>\n",
       "      <th>workTypes</th>\n",
       "      <th>subjects</th>\n",
       "      <th>dates</th>\n",
       "      <th>domain</th>\n",
       "      <th>text</th>\n",
       "      <th>mandatory</th>\n",
       "    </tr>\n",
       "  </thead>\n",
       "  <tbody>\n",
       "    <tr>\n",
       "      <th>21549</th>\n",
       "      <td>961c99ef-815b-4695-adc6-1c7028c2d13a</td>\n",
       "      <td>act_preparatory</td>\n",
       "      <td>racism|xenophobia|extreme right</td>\n",
       "      <td>1997-02-20</td>\n",
       "      <td>moral|nonmoral</td>\n",
       "      <td>Avis juridique important\\n\\nResolution on raci...</td>\n",
       "      <td>True</td>\n",
       "    </tr>\n",
       "    <tr>\n",
       "      <th>7255</th>\n",
       "      <td>ac6d079a-7fe3-4f81-a76c-b70d3dbad941</td>\n",
       "      <td>act_preparatory</td>\n",
       "      <td>corruption|penalty</td>\n",
       "      <td>2012-07-11</td>\n",
       "      <td>moral</td>\n",
       "      <td>\\n\\nProposal for a DIRECTIVE OF THE EUROPEAN P...</td>\n",
       "      <td>True</td>\n",
       "    </tr>\n",
       "    <tr>\n",
       "      <th>23137</th>\n",
       "      <td>00617d3b-726c-4a01-8a8f-a5404353e11a</td>\n",
       "      <td>decision</td>\n",
       "      <td>health control|tropical disease</td>\n",
       "      <td>1994-09-20</td>\n",
       "      <td>moral</td>\n",
       "      <td>Avis juridique important\\n\\n94/622/EC: Commiss...</td>\n",
       "      <td>True</td>\n",
       "    </tr>\n",
       "    <tr>\n",
       "      <th>9902</th>\n",
       "      <td>5828bf9a-13cb-4472-be25-d5a379a3ced3</td>\n",
       "      <td>regulation</td>\n",
       "      <td>fraud</td>\n",
       "      <td>2010-05-28</td>\n",
       "      <td>moral</td>\n",
       "      <td>29.5.2010 EN Official Journal of the European ...</td>\n",
       "      <td>True</td>\n",
       "    </tr>\n",
       "    <tr>\n",
       "      <th>18643</th>\n",
       "      <td>47183bf4-fae6-4275-a085-5510d4cb5408</td>\n",
       "      <td>act_preparatory</td>\n",
       "      <td>cruel and degrading treatment|human rights</td>\n",
       "      <td>2002-12-30</td>\n",
       "      <td>moral</td>\n",
       "      <td>Avis juridique important\\n\\nProposal for a Cou...</td>\n",
       "      <td>True</td>\n",
       "    </tr>\n",
       "    <tr>\n",
       "      <th>1781</th>\n",
       "      <td>00db531f-76e7-11ed-9887-01aa75ed71a1</td>\n",
       "      <td>act_preparatory</td>\n",
       "      <td>equal treatment|fundamental rights|gender equa...</td>\n",
       "      <td>2022-12-07</td>\n",
       "      <td>moral</td>\n",
       "      <td>EUROPEAN COMMISSION\\n\\nBrussels, 7.12.2022\\n\\n...</td>\n",
       "      <td>True</td>\n",
       "    </tr>\n",
       "    <tr>\n",
       "      <th>2334</th>\n",
       "      <td>02beb5e4-6cb0-11ed-9887-01aa75ed71a1</td>\n",
       "      <td>act_preparatory</td>\n",
       "      <td>equal treatment|gender equality|position of wo...</td>\n",
       "      <td>2020-03-05</td>\n",
       "      <td>moral</td>\n",
       "      <td>EXECUTIVE SUMMARY\\n\\nThis document evaluates t...</td>\n",
       "      <td>True</td>\n",
       "    </tr>\n",
       "    <tr>\n",
       "      <th>22844</th>\n",
       "      <td>42211802-427b-4748-9df0-3eb13c84549d</td>\n",
       "      <td>decision</td>\n",
       "      <td>health insurance|maternity benefit|social secu...</td>\n",
       "      <td>1995-04-07</td>\n",
       "      <td>moral</td>\n",
       "      <td>Avis juridique important\\n\\n95/419/EC: Workers...</td>\n",
       "      <td>True</td>\n",
       "    </tr>\n",
       "    <tr>\n",
       "      <th>15177</th>\n",
       "      <td>5f529d2c-d739-4899-afd5-ff9089329d59</td>\n",
       "      <td>act_preparatory</td>\n",
       "      <td>exploitation of resources</td>\n",
       "      <td>2006-04-21</td>\n",
       "      <td>moral</td>\n",
       "      <td>21.4.2006 EN Official Journal of the European ...</td>\n",
       "      <td>True</td>\n",
       "    </tr>\n",
       "    <tr>\n",
       "      <th>31740</th>\n",
       "      <td>ed3fed03-5a14-4fc9-8524-3bdc4a339519</td>\n",
       "      <td>act_preparatory</td>\n",
       "      <td>Community certification|EC conformity marking</td>\n",
       "      <td>2003-12-12</td>\n",
       "      <td>nonmoral</td>\n",
       "      <td>Avis juridique important\\n\\nList of notified b...</td>\n",
       "      <td>True</td>\n",
       "    </tr>\n",
       "  </tbody>\n",
       "</table>\n",
       "</div>"
      ],
      "text/plain": [
       "                                  cellarIds        workTypes  \\\n",
       "21549  961c99ef-815b-4695-adc6-1c7028c2d13a  act_preparatory   \n",
       "7255   ac6d079a-7fe3-4f81-a76c-b70d3dbad941  act_preparatory   \n",
       "23137  00617d3b-726c-4a01-8a8f-a5404353e11a         decision   \n",
       "9902   5828bf9a-13cb-4472-be25-d5a379a3ced3       regulation   \n",
       "18643  47183bf4-fae6-4275-a085-5510d4cb5408  act_preparatory   \n",
       "1781   00db531f-76e7-11ed-9887-01aa75ed71a1  act_preparatory   \n",
       "2334   02beb5e4-6cb0-11ed-9887-01aa75ed71a1  act_preparatory   \n",
       "22844  42211802-427b-4748-9df0-3eb13c84549d         decision   \n",
       "15177  5f529d2c-d739-4899-afd5-ff9089329d59  act_preparatory   \n",
       "31740  ed3fed03-5a14-4fc9-8524-3bdc4a339519  act_preparatory   \n",
       "\n",
       "                                                subjects       dates  \\\n",
       "21549                    racism|xenophobia|extreme right  1997-02-20   \n",
       "7255                                  corruption|penalty  2012-07-11   \n",
       "23137                    health control|tropical disease  1994-09-20   \n",
       "9902                                               fraud  2010-05-28   \n",
       "18643         cruel and degrading treatment|human rights  2002-12-30   \n",
       "1781   equal treatment|fundamental rights|gender equa...  2022-12-07   \n",
       "2334   equal treatment|gender equality|position of wo...  2020-03-05   \n",
       "22844  health insurance|maternity benefit|social secu...  1995-04-07   \n",
       "15177                          exploitation of resources  2006-04-21   \n",
       "31740      Community certification|EC conformity marking  2003-12-12   \n",
       "\n",
       "               domain                                               text  \\\n",
       "21549  moral|nonmoral  Avis juridique important\\n\\nResolution on raci...   \n",
       "7255            moral  \\n\\nProposal for a DIRECTIVE OF THE EUROPEAN P...   \n",
       "23137           moral  Avis juridique important\\n\\n94/622/EC: Commiss...   \n",
       "9902            moral  29.5.2010 EN Official Journal of the European ...   \n",
       "18643           moral  Avis juridique important\\n\\nProposal for a Cou...   \n",
       "1781            moral  EUROPEAN COMMISSION\\n\\nBrussels, 7.12.2022\\n\\n...   \n",
       "2334            moral  EXECUTIVE SUMMARY\\n\\nThis document evaluates t...   \n",
       "22844           moral  Avis juridique important\\n\\n95/419/EC: Workers...   \n",
       "15177           moral  21.4.2006 EN Official Journal of the European ...   \n",
       "31740        nonmoral  Avis juridique important\\n\\nList of notified b...   \n",
       "\n",
       "       mandatory  \n",
       "21549       True  \n",
       "7255        True  \n",
       "23137       True  \n",
       "9902        True  \n",
       "18643       True  \n",
       "1781        True  \n",
       "2334        True  \n",
       "22844       True  \n",
       "15177       True  \n",
       "31740       True  "
      ]
     },
     "execution_count": 3,
     "metadata": {},
     "output_type": "execute_result"
    }
   ],
   "source": [
    "filtered_data[filtered_data[\"mandatory\"]]"
   ]
  },
  {
   "cell_type": "code",
   "execution_count": 71,
   "id": "1b8d37a9",
   "metadata": {},
   "outputs": [
    {
     "data": {
      "text/plain": [
       "human rights                18\n",
       "waste management             9\n",
       "environmental protection     9\n",
       "help for victims             7\n",
       "technical standard           6\n",
       "equal treatment              6\n",
       "sexual discrimination        5\n",
       "waste recycling              5\n",
       "gender equality              4\n",
       "violence                     4\n",
       "Name: count, dtype: int64"
      ]
     },
     "execution_count": 71,
     "metadata": {},
     "output_type": "execute_result"
    }
   ],
   "source": [
    "filtered_data[\"subjects\"].str.split(\"|\", expand=True).stack().value_counts().head(10)"
   ]
  },
  {
   "cell_type": "code",
   "execution_count": 77,
   "id": "35900a69",
   "metadata": {},
   "outputs": [
    {
     "data": {
      "text/plain": [
       "domain\n",
       "moral             83\n",
       "nonmoral          20\n",
       "moral|nonmoral    11\n",
       "Name: count, dtype: int64"
      ]
     },
     "execution_count": 77,
     "metadata": {},
     "output_type": "execute_result"
    }
   ],
   "source": [
    "filtered_data[\"domain\"].value_counts()"
   ]
  },
  {
   "cell_type": "code",
   "execution_count": 72,
   "id": "bfb3a333",
   "metadata": {},
   "outputs": [],
   "source": [
    "filtered_data[filtered_data[\"mandatory\"]][\"cellarIds\"].to_csv(\"mandatory_ids.csv\", index=False, header=False)\n",
    "filtered_data[~filtered_data[\"mandatory\"]][\"cellarIds\"].to_csv(\"non_mandatory_ids.csv\", index=False, header=False)"
   ]
  },
  {
   "cell_type": "code",
   "execution_count": 73,
   "id": "946f8d19",
   "metadata": {},
   "outputs": [],
   "source": [
    "emfd_df = pd.DataFrame(emfd).T\n",
    "highlights = emfd_df[(emfd_df > emfd_df.mean()+emfd_df.std()).iloc[:,:5].any(axis=1)].index.tolist()"
   ]
  },
  {
   "cell_type": "code",
   "execution_count": 74,
   "id": "db3b4cbb",
   "metadata": {},
   "outputs": [
    {
     "data": {
      "text/plain": [
       "<function __main__.highlight_tokens(doc)>"
      ]
     },
     "execution_count": 74,
     "metadata": {},
     "output_type": "execute_result"
    }
   ],
   "source": [
    "@Language.component(\"highlight_tokens\")\n",
    "def highlight_tokens(doc):\n",
    "    return Doc(doc.vocab, [f\"<b>{token.text}</b>\" if token.text.lower() in highlights else token.text for token in doc], spaces=[token.whitespace_ for token in doc])\n",
    "\n",
    "nlp = spacy.load('en_core_web_sm', disable=['ner', 'parser'])\n",
    "nlp.add_pipe(\"highlight_tokens\")"
   ]
  },
  {
   "cell_type": "code",
   "execution_count": 75,
   "id": "5bb44d40",
   "metadata": {},
   "outputs": [
    {
     "data": {
      "application/vnd.jupyter.widget-view+json": {
       "model_id": "350638acfef74ddaa555c99bc98ebec4",
       "version_major": 2,
       "version_minor": 0
      },
      "text/plain": [
       "  0%|          | 0/114 [00:00<?, ?it/s]"
      ]
     },
     "metadata": {},
     "output_type": "display_data"
    }
   ],
   "source": [
    "highlighted_texts = nlp.pipe(filtered_data[\"text\"])\n",
    "filtered_data[\"text\"] = [doc.text for doc in tqdm(highlighted_texts, total=len(filtered_data))]"
   ]
  },
  {
   "cell_type": "code",
   "execution_count": 76,
   "id": "d2dd78ca",
   "metadata": {},
   "outputs": [],
   "source": [
    "for i, row in filtered_data.iterrows():\n",
    "    row.to_json(f\"D:/data/documents/{row[\"cellarIds\"]}.json\")"
   ]
  }
 ],
 "metadata": {
  "kernelspec": {
   "display_name": "thesis",
   "language": "python",
   "name": "python3"
  },
  "language_info": {
   "codemirror_mode": {
    "name": "ipython",
    "version": 3
   },
   "file_extension": ".py",
   "mimetype": "text/x-python",
   "name": "python",
   "nbconvert_exporter": "python",
   "pygments_lexer": "ipython3",
   "version": "3.12.7"
  }
 },
 "nbformat": 4,
 "nbformat_minor": 5
}
