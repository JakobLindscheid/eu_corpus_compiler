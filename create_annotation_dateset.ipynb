{
 "cells": [
  {
   "cell_type": "code",
   "execution_count": null,
   "id": "d3fba1eb",
   "metadata": {},
   "outputs": [],
   "source": [
    "import os\n",
    "import json\n",
    "import pandas as pd\n",
    "from tqdm.auto import tqdm"
   ]
  },
  {
   "cell_type": "code",
   "execution_count": 2,
   "id": "2175ab88",
   "metadata": {},
   "outputs": [],
   "source": [
    "txt_path = r\"D:\\data\\2020_moral\\text_files_20250430-170114\""
   ]
  },
  {
   "cell_type": "code",
   "execution_count": 3,
   "id": "a021af05",
   "metadata": {},
   "outputs": [],
   "source": [
    "files = os.listdir(txt_path)"
   ]
  },
  {
   "cell_type": "code",
   "execution_count": 4,
   "id": "cc7e4f8a",
   "metadata": {},
   "outputs": [],
   "source": [
    "query_results = json.load(open(r\"queries\\sparql_query_results\\query_results_2020_moral20250430-170114.json\"))\n",
    "query_results = pd.DataFrame(query_results[\"results\"][\"bindings\"]).map(lambda x: x[\"value\"])\n",
    "query_results[\"cellarIds\"] = query_results[\"cellarURIs\"].str.split(\"/\").str[-1]\n",
    "query_results[\"workTypes\"] = query_results[\"workTypes\"].str.split(\"#\").str[-1]\n",
    "query_results[\"subject_ids\"] = query_results[\"subject_ids\"].str.split(\"|\").apply(lambda x: [x.split(\"/\")[-1] for x in x])\n",
    "query_results = query_results.loc[:, [\"cellarIds\", \"workTypes\", \"subject_ids\", \"subjects\"]]"
   ]
  },
  {
   "cell_type": "code",
   "execution_count": 21,
   "id": "11c22999",
   "metadata": {},
   "outputs": [
    {
     "data": {
      "application/vnd.jupyter.widget-view+json": {
       "model_id": "c85240e43dd648a1a2c2c16759ae70f1",
       "version_major": 2,
       "version_minor": 0
      },
      "text/plain": [
       "  0%|          | 0/3720 [00:00<?, ?it/s]"
      ]
     },
     "metadata": {},
     "output_type": "display_data"
    }
   ],
   "source": [
    "texts = []\n",
    "for i, row in tqdm(query_results.iterrows(), total=len(query_results)):\n",
    "    if row[\"cellarIds\"]+\".txt\" in files:\n",
    "        texts.append(open(txt_path +\"/\"+ row[\"cellarIds\"]+\".txt\", \"r\", encoding=\"utf-8\").read())\n",
    "    else:\n",
    "        texts.append(\"\")"
   ]
  },
  {
   "cell_type": "code",
   "execution_count": 22,
   "id": "3520261a",
   "metadata": {},
   "outputs": [],
   "source": [
    "query_results[\"texts\"] = texts"
   ]
  },
  {
   "cell_type": "code",
   "execution_count": 28,
   "id": "f6c981f2",
   "metadata": {},
   "outputs": [],
   "source": [
    "query_results = query_results[query_results[\"texts\"] != \"\"]"
   ]
  },
  {
   "cell_type": "code",
   "execution_count": null,
   "id": "24335f6a",
   "metadata": {},
   "outputs": [],
   "source": [
    "query_results.to_csv(\"2020_moral.csv\")"
   ]
  }
 ],
 "metadata": {
  "kernelspec": {
   "display_name": "thesis",
   "language": "python",
   "name": "python3"
  },
  "language_info": {
   "codemirror_mode": {
    "name": "ipython",
    "version": 3
   },
   "file_extension": ".py",
   "mimetype": "text/x-python",
   "name": "python",
   "nbconvert_exporter": "python",
   "pygments_lexer": "ipython3",
   "version": "3.12.7"
  }
 },
 "nbformat": 4,
 "nbformat_minor": 5
}
